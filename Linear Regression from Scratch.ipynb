{
 "cells": [
  {
   "cell_type": "code",
   "execution_count": 79,
   "id": "0e65124b",
   "metadata": {
    "scrolled": true
   },
   "outputs": [],
   "source": [
    "%matplotlib inline\n",
    "import random\n",
    "import numpy as np\n",
    "import torch\n",
    "import matplotlib.pyplot as plt"
   ]
  },
  {
   "cell_type": "code",
   "execution_count": 92,
   "id": "85af58a0",
   "metadata": {},
   "outputs": [],
   "source": [
    "def synthetic_data(w, b, num_examples):  #@save\n",
    "    \"\"\"Generate y = Xw + b + noise.\"\"\"\n",
    "    X = torch.normal(0, 1, (num_examples, len(w)))\n",
    "    y = torch.matmul(X, w) + b\n",
    "    y += torch.normal(0, 0.01, y.shape)\n",
    "    return X, y.reshape((-1, 1))\n",
    "\n",
    "true_w = torch.tensor([2, -3.4])\n",
    "true_b = 4.2\n",
    "features, labels = synthetic_data(true_w, true_b, 1000)"
   ]
  },
  {
   "cell_type": "code",
   "execution_count": 93,
   "id": "41c78f79",
   "metadata": {},
   "outputs": [
    {
     "name": "stdout",
     "output_type": "stream",
     "text": [
      "features: tensor([0.3666, 0.9781]) \n",
      "label: tensor([1.6189])\n"
     ]
    }
   ],
   "source": [
    "# seeing first feature and label\n",
    "print(\"features:\", features[0], '\\nlabel:', labels[0])"
   ]
  },
  {
   "cell_type": "code",
   "execution_count": 94,
   "id": "9ae94c5c",
   "metadata": {},
   "outputs": [
    {
     "data": {
      "text/plain": [
       "<matplotlib.collections.PathCollection at 0x21bbd0d5f70>"
      ]
     },
     "execution_count": 94,
     "metadata": {},
     "output_type": "execute_result"
    },
    {
     "data": {
      "image/png": "[encoded data removed]",
      "text/plain": [
       "<Figure size 432x288 with 1 Axes>"
      ]
     },
     "metadata": {
      "needs_background": "light"
     },
     "output_type": "display_data"
    }
   ],
   "source": [
    "# Generate scatter plot using second feature and labels\n",
    "plt.scatter(features[:, 1], labels, 1)"
   ]
  },
  {
   "cell_type": "code",
   "execution_count": 95,
   "id": "0161288f",
   "metadata": {},
   "outputs": [],
   "source": [
    "# creating the data_iter function as our utility function\n",
    "# function takes batch size, matrix of features, vector of labels, yielding minibatches of size batch_size\n",
    "# minibatches constis of tuple of features and labels\n",
    "\n",
    "def data_iter(batch_size, features, labels):\n",
    "    num_examples = len(features)\n",
    "    indices = list(range(num_examples))\n",
    "    # read examples in random order\n",
    "    random.shuffle(indices)\n",
    "    for i in range(0, num_examples, batch_size):\n",
    "        batch_indices = torch.tensor(\n",
    "            indices[i: min(i + batch_size, num_examples)])\n",
    "        yield features[batch_indices], labels[batch_indices]"
   ]
  },
  {
   "cell_type": "code",
   "execution_count": 96,
   "id": "e4815248",
   "metadata": {},
   "outputs": [
    {
     "name": "stdout",
     "output_type": "stream",
     "text": [
      "tensor([[-1.5129, -0.0218],\n",
      "        [-0.6501,  0.9014],\n",
      "        [ 1.3887,  0.2934],\n",
      "        [-1.4640,  0.4458],\n",
      "        [-1.5134, -1.5082],\n",
      "        [-0.2716, -0.4346],\n",
      "        [-1.1983,  0.1718],\n",
      "        [-0.8454, -1.6080],\n",
      "        [-0.7165, -1.5584],\n",
      "        [ 0.0270,  1.1838]]) \n",
      " tensor([[ 1.2396],\n",
      "        [-0.1527],\n",
      "        [ 5.9647],\n",
      "        [-0.2471],\n",
      "        [ 6.3174],\n",
      "        [ 5.1242],\n",
      "        [ 1.2124],\n",
      "        [ 7.9795],\n",
      "        [ 8.0652],\n",
      "        [ 0.2248]])\n"
     ]
    }
   ],
   "source": [
    "# printing batch of data examples to read data\n",
    "batch_size = 10\n",
    "\n",
    "for X, y in data_iter(batch_size, features, labels):\n",
    "    print(X, '\\n', y)\n",
    "    break"
   ]
  },
  {
   "cell_type": "code",
   "execution_count": 97,
   "id": "bd2403e4",
   "metadata": {},
   "outputs": [],
   "source": [
    "'''Initialize Parameters'''\n",
    "# weights and bias are sampled at random numbers from a normal distrubtion, with a mean 0 and standard deviation of 0.01\n",
    "w = torch.normal(0, 0.01, size=(2,1), requires_grad=True)\n",
    "b = torch.zeros(1, requires_grad=True)"
   ]
  },
  {
   "cell_type": "code",
   "execution_count": 98,
   "id": "0acc005e",
   "metadata": {},
   "outputs": [],
   "source": [
    "'''\n",
    "Building the Model....\n",
    "a linear model works by taking the matrix-vector product of the features and weights and add the offset to the result\n",
    "X = features, w = weights, b = offset\n",
    "'''\n",
    "def linear_regression(X, w, b):  #@save\n",
    "    return torch.matmul(X, w) + b"
   ]
  },
  {
   "cell_type": "code",
   "execution_count": 99,
   "id": "ec15d571",
   "metadata": {},
   "outputs": [],
   "source": [
    "'''Creating loss function'''\n",
    "# squared loss ufnction requires transforming true y value to predicted value's shape (y_hat)\n",
    "def squared_loss(y_hat, y):\n",
    "    return (y_hat - y.reshape(y_hat.shape)) ** 2 / 2"
   ]
  },
  {
   "cell_type": "code",
   "execution_count": 100,
   "id": "856fddcd",
   "metadata": {},
   "outputs": [],
   "source": [
    "'''Creating the Optimization Alg'''\n",
    "# applying minibatch SGD (stochastic gradient descent) cause why not :)\n",
    "# function will take a minibatch drawn from dataset and estiamte gradient of loss with parameters respectfully\n",
    "# updates params to reduce loss\n",
    "def sgd(params, lr, batch_size):  #@save\n",
    "    \"\"\"Minibatch stochastic gradient descent.\"\"\"\n",
    "    with torch.no_grad():\n",
    "        for param in params:\n",
    "            param -= lr * param.grad / batch_size\n",
    "            param.grad.zero_()"
   ]
  },
  {
   "cell_type": "code",
   "execution_count": 102,
   "id": "fd97ef78",
   "metadata": {},
   "outputs": [
    {
     "name": "stdout",
     "output_type": "stream",
     "text": [
      "epoch 1, loss 0.000053\n",
      "epoch 2, loss 0.000053\n",
      "epoch 3, loss 0.000053\n",
      "epoch 4, loss 0.000053\n",
      "epoch 5, loss 0.000053\n",
      "epoch 6, loss 0.000053\n",
      "epoch 7, loss 0.000053\n",
      "epoch 8, loss 0.000053\n",
      "epoch 9, loss 0.000053\n",
      "epoch 10, loss 0.000053\n"
     ]
    }
   ],
   "source": [
    "'''Training the model\n",
    "Creates a loop that does the following:\n",
    "    1. Initlializes parameters (weights and bias)\n",
    "    2. Reepats until finsihed computing gradient + udpating parameters\n",
    "'''\n",
    "# In each iteration, we will grab a minibatch of training examples, and pass them through our model to obtain a set of predictions. After calculating the loss, we initiate the backwards pass through the network, storing the gradients with respect to each parameter. Finally, we will call the optimization algorithm sgd to update the model parameters\n",
    "# function takes a minibatch of features and labels, and returns the loss and the gradients\n",
    "lr = 0.04\n",
    "num_epochs = 10\n",
    "net = linear_regression\n",
    "loss = squared_loss\n",
    "\n",
    "for epoch in range(num_epochs):\n",
    "    for X, y in data_iter(batch_size, features, labels):\n",
    "        l = loss(net(X, w, b), y)\n",
    "        # Compute gradient on `l` with respect to [`w`, `b`]\n",
    "        l.sum().backward()\n",
    "        sgd([w, b], lr, batch_size)  # Update parameters with gradient\n",
    "    with torch.no_grad():\n",
    "        train_l = loss(net(features, w, b), labels)\n",
    "        print(f'epoch {epoch + 1}, loss {float(train_l.mean()):f}')"
   ]
  },
  {
   "cell_type": "code",
   "execution_count": 103,
   "id": "c2d6e62c",
   "metadata": {},
   "outputs": [
    {
     "data": {
      "text/plain": [
       "tensor([[1.7427e-05],\n",
       "        [8.1907e-06],\n",
       "        [3.6639e-06],\n",
       "        [4.8700e-04],\n",
       "        [9.3731e-08],\n",
       "        [4.4345e-05],\n",
       "        [4.6905e-05],\n",
       "        [2.0901e-05],\n",
       "        [1.0028e-04],\n",
       "        [5.0890e-05]], grad_fn=<DivBackward0>)"
      ]
     },
     "execution_count": 103,
     "metadata": {},
     "output_type": "execute_result"
    }
   ],
   "source": [
    "# Evluate the model\n",
    "print(f'Error with estimating weight: {true_w - w.reshape(true_w.shape)}')\n",
    "print(f'Error with estimating bias: {true_b - b.resshape(true_b.shape)}')"
   ]
  },
  {
   "cell_type": "code",
   "execution_count": null,
   "id": "957540a3",
   "metadata": {},
   "outputs": [],
   "source": []
  }
 ],
 "metadata": {
  "interpreter": {
   "hash": "9ab7cd6c081d5eeceaa240905fae0db651638a012a37ba75194f5d8a8dc362d7"
  },
  "kernelspec": {
   "display_name": "Python 3.9.7 ('BCI-stuff')",
   "language": "python",
   "name": "python3"
  },
  "language_info": {
   "codemirror_mode": {
    "name": "ipython",
    "version": 3
   },
   "file_extension": ".py",
   "mimetype": "text/x-python",
   "name": "python",
   "nbconvert_exporter": "python",
   "pygments_lexer": "ipython3",
   "version": "3.9.7"
  }
 },
 "nbformat": 4,
 "nbformat_minor": 5
}
